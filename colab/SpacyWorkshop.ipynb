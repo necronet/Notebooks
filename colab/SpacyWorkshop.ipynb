{
  "nbformat": 4,
  "nbformat_minor": 0,
  "metadata": {
    "colab": {
      "name": "Untitled",
      "provenance": [],
      "collapsed_sections": [],
      "authorship_tag": "ABX9TyMlH/D2HgNycWej0xrw6jWZ",
      "include_colab_link": true
    },
    "kernelspec": {
      "name": "python3",
      "display_name": "Python 3"
    }
  },
  "cells": [
    {
      "cell_type": "markdown",
      "metadata": {
        "id": "view-in-github",
        "colab_type": "text"
      },
      "source": [
        "<a href=\"https://colab.research.google.com/github/necronet/Notebooks/blob/master/colab/SpacyWorkshop.ipynb\" target=\"_parent\"><img src=\"https://colab.research.google.com/assets/colab-badge.svg\" alt=\"Open In Colab\"/></a>"
      ]
    },
    {
      "cell_type": "markdown",
      "metadata": {
        "id": "zVExfJQEyUxE",
        "colab_type": "text"
      },
      "source": [
        "# Spacy para procesamiento de lenguaje natural\n",
        "\n",
        "## NLP vs Text Mining\n",
        "\n",
        "Aunque ambas tecnicas tienen como eje central la manipulacion de texto, text mining se enfoca en las \"palabras\" como una unidad caracteristica de la solucion del problema, mientras que NLP busca encontrar estructura latente y significados a traves de herramientas linguisticas y estadisticas. \n",
        "\n",
        "## Spacy\n",
        "\n",
        "Spacy es una herramienta para trabajar problemas relacionados con lenguaje, con un amplio soporte de lenguajes provee una sintaxis intuitiva para operar en ambitos linguisticos.\n",
        "\n",
        "### Modelos\n",
        "\n",
        "Los modelos en spacy son modulos preentrenados a travez de Convolutional Neural Networks, se dividen en modelos bases y modelos iniciales. Los primeros son claves para inferir caracteristicas linguisticas de los datos, y se clasifican en general en dependencia del idioma. Los segundo son paquetes iniciales con valores ponderados para continuar entrenando otras arquitecturas que puedan resultar mas convenientes deacuerdo al contexto del problema.\n",
        "\n",
        "Cargar los modelos que se utilizaran para procesar texto, es_core_news_*. SM se refiere a modelos reducidos, mas rapidos sin embargo menos precisos. MD sin modelos medios entrenados con mayor datos y mayor precision.\n",
        "\n",
        "Mas informacion en [Modelos en español de Spacy](https://spacy.io/models/es)"
      ]
    },
    {
      "cell_type": "code",
      "metadata": {
        "id": "YEQJyNG1umTR",
        "colab_type": "code",
        "colab": {}
      },
      "source": [
        "!python -m spacy download es_core_news_sm\n",
        "!python -m spacy download es_core_news_md"
      ],
      "execution_count": null,
      "outputs": []
    },
    {
      "cell_type": "code",
      "metadata": {
        "id": "WQULtXKJsPxC",
        "colab_type": "code",
        "colab": {}
      },
      "source": [
        "import spacy\n",
        "import es_core_news_sm\n",
        "import es_core_news_md"
      ],
      "execution_count": null,
      "outputs": []
    },
    {
      "cell_type": "markdown",
      "metadata": {
        "id": "NIn7WxaF1p77",
        "colab_type": "text"
      },
      "source": [
        "El siguiente codigo evalua prosas del poema de [Ruben Dario \"A Colon\"](https://www.poemas-del-alma.com/a-colon.htm) para obtener el part-of-speech tagging y el lemma relacionado a cada token."
      ]
    },
    {
      "cell_type": "code",
      "metadata": {
        "id": "lykQ7ZttsXFb",
        "colab_type": "code",
        "colab": {}
      },
      "source": [
        "# No funciona en colab\n",
        "# nlp = spacy.load(\"es_core_news_sm\")\n",
        "nlp = es_core_news_sm.load()\n",
        "doc = nlp('''Un desastroso espirítu posee tu tierra:\n",
        "            donde la tribu unida blandió sus mazas,\n",
        "            hoy se enciende entre hermanos perpetua guerra,\n",
        "            se hieren y destrozan las mismas razas.''')\n",
        "\n",
        "for token in doc: print(token.text, \"|\", token.lemma_, '|', token.pos_)"
      ],
      "execution_count": null,
      "outputs": []
    },
    {
      "cell_type": "markdown",
      "metadata": {
        "id": "_uRjOIGo4x5u",
        "colab_type": "text"
      },
      "source": [
        "## Flujo de texto a documento\n",
        "\n",
        "Cuando se ejecuta una llamada a `nlp`, spacy utiliza un numero de modulos especializados para producir un documento analizado. Cada una de las secciones puede ser extendida y/o deshabilitada si fuera necesario. El flujo del texto se divide en las siguientes secciones:\n",
        "\n",
        "- **Tokenizer**: el modulo que se encarga de tomar un texto y dividirlo en unidades atomicas, para lenguaje indo-europeos generalmente los espacios en blanco suelen ser relativamente correcto, sin embargo **Spacy** realiza una division mas integral. Por ejemplo toma en cuenta simbolos de puntuacion para realizar la tokenizacion `Objective-C` seria separado como `Objective`, `-`, `C`.\n",
        "\n",
        "- **Tagger**: Asigna el Part-Of-Speech con un modelo probabilistico. Este paso es esencial para tecnicas mas complejas que generalmente dependen de saber la estructura de la oracion.\n",
        "\n",
        "- **NER**: Reconocimiento de entidad se utiliza para analizar un texto y detectar tipos especificos de cadenas, este proceso puede ser altamente personalizado en dependencia del contexto. \n",
        "\n",
        "\n",
        "![texto alternativo](https://spacy.io/pipeline-7a14d4edd18f3edfee8f34393bff2992.svg)"
      ]
    },
    {
      "cell_type": "markdown",
      "metadata": {
        "id": "BUynmQlv29IG",
        "colab_type": "text"
      },
      "source": [
        "Las herramientas graficas para visualizar los arboles de dependencias estructura pueden ser utilizes para realizar discriminadores de palabras utiles, como describiremos luego"
      ]
    },
    {
      "cell_type": "code",
      "metadata": {
        "id": "V7fehobhvCzO",
        "colab_type": "code",
        "colab": {}
      },
      "source": [
        "from spacy import displacy\n",
        "from IPython.display import SVG\n",
        "doc = nlp(\"Jose Ayerdis es un desarrollador que trabaja en procesamiento de lenguaje natural, con una maestria en Universidad de Buffalo, Nueva York.\")\n",
        "\n",
        "SVG(data = displacy.render(doc))"
      ],
      "execution_count": null,
      "outputs": []
    },
    {
      "cell_type": "markdown",
      "metadata": {
        "id": "D_bbmF_5Do8z",
        "colab_type": "text"
      },
      "source": [
        "## Reconocimiento de entidad\n",
        "\n",
        "Generalmente una tarea costosa al momento de realizar analisis de texto, existen muchas tecnicas para automaticamente detectar entidades de valor dentro de una cadena corta, Spacy aunque no es perfecto y esta tarea es muy dependiente del contexto, es posible obtener buenos resultados para generar un dataset y reentrenar un modelo para realizar un reconocimiento de entidades mas a la medida. \n",
        "\n",
        "https://spacy.io/usage/linguistic-features#named-entities"
      ]
    },
    {
      "cell_type": "code",
      "metadata": {
        "id": "_2PaESuGedbs",
        "colab_type": "code",
        "colab": {}
      },
      "source": [
        "#https://spacy.io/api/annotation#named-entities\n",
        "\n",
        "article_text = '''La ONG Fundación del Río explicó este viernes que la decisión de la Organización de la ONU para la Educación, la Ciencia y la Cultura (Unesco) de declarar como geoparque el río Coco, ubicado en el norte de Nicaragua, obliga a las autoridades nicaragüenses a proteger su ecosistema, ya que se encuentra en el área más deforestada de la cuenca. La Unesco está reconociendo la importancia del río Coco, pero también está haciendo un llamado al Gobierno a que actúe en la protección y la conservación de esos ecosistemas, dijo a Efe el presidente de la Fundación del Río, Amaru Ruiz.'''\n",
        "doc = nlp(article_text)\n",
        "SVG(data = displacy.render(doc, style=\"ent\"))"
      ],
      "execution_count": null,
      "outputs": []
    },
    {
      "cell_type": "code",
      "metadata": {
        "id": "aZ_BQvvu9Enl",
        "colab_type": "code",
        "colab": {}
      },
      "source": [
        "for ent in doc.ents: print(ent.text, ent.label_)"
      ],
      "execution_count": null,
      "outputs": []
    },
    {
      "cell_type": "code",
      "metadata": {
        "id": "nGjlM37cIZz7",
        "colab_type": "code",
        "colab": {}
      },
      "source": [
        "# Word2Vec similarity function()\n",
        "\n",
        "nlp_md = es_core_news_md.load()\n",
        "tokens = nlp_md(\"perro gato banana manzana rey reina\")\n",
        "\n",
        "for token1 in tokens:\n",
        "    for token2 in tokens:\n",
        "        print(token1.text, token2.text, token1.similarity(token2))"
      ],
      "execution_count": null,
      "outputs": []
    },
    {
      "cell_type": "code",
      "metadata": {
        "id": "ZI3rRcBQd1g-",
        "colab_type": "code",
        "colab": {
          "base_uri": "https://localhost:8080/",
          "height": 51
        },
        "outputId": "2bfad9ad-515b-4cc4-cb0b-16bc32cd97fc"
      },
      "source": [
        "doc = nlp(\"El cielo estara azul y claro hoy y mañana\")\n",
        "for chunk in doc.noun_chunks:\n",
        "\n",
        "    print(chunk.text, chunk.root.text, chunk.root.dep_, chunk.root.head.text)"
      ],
      "execution_count": null,
      "outputs": [
        {
          "output_type": "stream",
          "text": [
            "El cielo cielo ROOT cielo\n",
            "azul azul nmod cielo\n"
          ],
          "name": "stdout"
        }
      ]
    },
    {
      "cell_type": "markdown",
      "metadata": {
        "id": "i40BpTntdznY",
        "colab_type": "text"
      },
      "source": [
        "# Deteccion de lenguaje go dentro de preguntas en stackoverflow\n",
        "\n",
        "\n",
        "\n",
        "\n",
        "Dataset utilizado [StackSample: 10% of Stack Overflow Q&A\n",
        " ](https://www.kaggle.com/stackoverflow/stacksample)"
      ]
    },
    {
      "cell_type": "code",
      "metadata": {
        "id": "o4jlr34-JuKR",
        "colab_type": "code",
        "colab": {}
      },
      "source": [
        "from google.colab import drive\n",
        "drive.mount('/content/drive')"
      ],
      "execution_count": null,
      "outputs": []
    },
    {
      "cell_type": "code",
      "metadata": {
        "id": "rdNdpiUZJ-Mm",
        "colab_type": "code",
        "colab": {
          "base_uri": "https://localhost:8080/",
          "height": 51
        },
        "outputId": "7785b8e5-9a3c-4057-81fb-35b3d804c404"
      },
      "source": [
        "!unzip -uq \"drive/My Drive/Colab Notebooks/Dataset/*.zip\" -d \"drive/My Drive/Colab Notebooks/Dataset/\""
      ],
      "execution_count": 48,
      "outputs": [
        {
          "output_type": "stream",
          "text": [
            "\n",
            "2 archives were successfully processed.\n"
          ],
          "name": "stdout"
        }
      ]
    },
    {
      "cell_type": "code",
      "metadata": {
        "id": "84yJPwvPKE22",
        "colab_type": "code",
        "colab": {
          "base_uri": "https://localhost:8080/",
          "height": 34
        },
        "outputId": "49659fba-d66a-47bf-d48f-4908963b69f2"
      },
      "source": [
        "!ls \"drive/My Drive/Colab Notebooks/Dataset\""
      ],
      "execution_count": 49,
      "outputs": [
        {
          "output_type": "stream",
          "text": [
            "Questions.csv  Questions.zip  Tags.csv\tTags.zip\n"
          ],
          "name": "stdout"
        }
      ]
    },
    {
      "cell_type": "code",
      "metadata": {
        "id": "ocIBJnOtKesm",
        "colab_type": "code",
        "colab": {}
      },
      "source": [
        "import pandas as pd\n",
        "\n",
        "questions_path = \"drive/My Drive/Colab Notebooks/Dataset/Questions.csv\"\n",
        "tags_path = \"drive/My Drive/Colab Notebooks/Dataset/Tags.csv\"\n",
        "\n",
        "df = (pd.read_csv(questions_path, nrows=1_000_000,  encoding=\"ISO-8859-1\", usecols=['Title', 'Id']))\n",
        "titles = [_ for _ in df['Title']]"
      ],
      "execution_count": null,
      "outputs": []
    },
    {
      "cell_type": "code",
      "metadata": {
        "id": "5JEktIlJK7zN",
        "colab_type": "code",
        "colab": {
          "base_uri": "https://localhost:8080/",
          "height": 359
        },
        "outputId": "dfb1c9d0-2cb7-4cc8-d450-364852b73582"
      },
      "source": [
        "df.head(10)"
      ],
      "execution_count": 59,
      "outputs": [
        {
          "output_type": "execute_result",
          "data": {
            "text/html": [
              "<div>\n",
              "<style scoped>\n",
              "    .dataframe tbody tr th:only-of-type {\n",
              "        vertical-align: middle;\n",
              "    }\n",
              "\n",
              "    .dataframe tbody tr th {\n",
              "        vertical-align: top;\n",
              "    }\n",
              "\n",
              "    .dataframe thead th {\n",
              "        text-align: right;\n",
              "    }\n",
              "</style>\n",
              "<table border=\"1\" class=\"dataframe\">\n",
              "  <thead>\n",
              "    <tr style=\"text-align: right;\">\n",
              "      <th></th>\n",
              "      <th>Id</th>\n",
              "      <th>Title</th>\n",
              "    </tr>\n",
              "  </thead>\n",
              "  <tbody>\n",
              "    <tr>\n",
              "      <th>0</th>\n",
              "      <td>80</td>\n",
              "      <td>SQLStatement.execute() - multiple queries in o...</td>\n",
              "    </tr>\n",
              "    <tr>\n",
              "      <th>1</th>\n",
              "      <td>90</td>\n",
              "      <td>Good branching and merging tutorials for Torto...</td>\n",
              "    </tr>\n",
              "    <tr>\n",
              "      <th>2</th>\n",
              "      <td>120</td>\n",
              "      <td>ASP.NET Site Maps</td>\n",
              "    </tr>\n",
              "    <tr>\n",
              "      <th>3</th>\n",
              "      <td>180</td>\n",
              "      <td>Function for creating color wheels</td>\n",
              "    </tr>\n",
              "    <tr>\n",
              "      <th>4</th>\n",
              "      <td>260</td>\n",
              "      <td>Adding scripting functionality to .NET applica...</td>\n",
              "    </tr>\n",
              "    <tr>\n",
              "      <th>5</th>\n",
              "      <td>330</td>\n",
              "      <td>Should I use nested classes in this case?</td>\n",
              "    </tr>\n",
              "    <tr>\n",
              "      <th>6</th>\n",
              "      <td>470</td>\n",
              "      <td>Homegrown consumption of web services</td>\n",
              "    </tr>\n",
              "    <tr>\n",
              "      <th>7</th>\n",
              "      <td>580</td>\n",
              "      <td>Deploying SQL Server Databases from Test to Live</td>\n",
              "    </tr>\n",
              "    <tr>\n",
              "      <th>8</th>\n",
              "      <td>650</td>\n",
              "      <td>Automatically update version number</td>\n",
              "    </tr>\n",
              "    <tr>\n",
              "      <th>9</th>\n",
              "      <td>810</td>\n",
              "      <td>Visual Studio Setup Project - Per User Registr...</td>\n",
              "    </tr>\n",
              "  </tbody>\n",
              "</table>\n",
              "</div>"
            ],
            "text/plain": [
              "    Id                                              Title\n",
              "0   80  SQLStatement.execute() - multiple queries in o...\n",
              "1   90  Good branching and merging tutorials for Torto...\n",
              "2  120                                  ASP.NET Site Maps\n",
              "3  180                 Function for creating color wheels\n",
              "4  260  Adding scripting functionality to .NET applica...\n",
              "5  330          Should I use nested classes in this case?\n",
              "6  470              Homegrown consumption of web services\n",
              "7  580   Deploying SQL Server Databases from Test to Live\n",
              "8  650                Automatically update version number\n",
              "9  810  Visual Studio Setup Project - Per User Registr..."
            ]
          },
          "metadata": {
            "tags": []
          },
          "execution_count": 59
        }
      ]
    },
    {
      "cell_type": "code",
      "metadata": {
        "id": "-zTysh3jLO7D",
        "colab_type": "code",
        "colab": {
          "base_uri": "https://localhost:8080/",
          "height": 102
        },
        "outputId": "4fb13af4-c2bd-4344-e8f8-ce7ab6ff0298"
      },
      "source": [
        "def has_golang(text):\n",
        "    return \" go \" in text\n",
        "\n",
        "g = (title for title in titles if has_golang(title))\n",
        "[next(g) for i in range(5)]"
      ],
      "execution_count": 65,
      "outputs": [
        {
          "output_type": "execute_result",
          "data": {
            "text/plain": [
              "['Where does Console.WriteLine go in ASP.NET?',\n",
              " 'Should try...catch go inside or outside a loop?',\n",
              " 'Way to go from recursion to iteration',\n",
              " 'When are API methods marked \"deprecated\" actually going to go away?',\n",
              " 'How to go to main stack']"
            ]
          },
          "metadata": {
            "tags": []
          },
          "execution_count": 65
        }
      ]
    },
    {
      "cell_type": "code",
      "metadata": {
        "id": "_QwB3-S2LVUy",
        "colab_type": "code",
        "colab": {
          "base_uri": "https://localhost:8080/",
          "height": 119
        },
        "outputId": "64ba576a-243c-4bd6-bb06-18d516812433"
      },
      "source": [
        "# Puede ser mejorado conndisable=[\"ner\"]\n",
        "nlp = spacy.load(\"en_core_web_sm\")\n",
        "\n",
        "for t in nlp(\"How to go to main stack\"):\n",
        "    print(t, t.pos_, t.dep_)"
      ],
      "execution_count": 66,
      "outputs": [
        {
          "output_type": "stream",
          "text": [
            "How ADV advmod\n",
            "to PART aux\n",
            "go VERB ROOT\n",
            "to ADP prep\n",
            "main ADJ amod\n",
            "stack NOUN pobj\n"
          ],
          "name": "stdout"
        }
      ]
    },
    {
      "cell_type": "code",
      "metadata": {
        "id": "R2TI-BHAL0OJ",
        "colab_type": "code",
        "colab": {
          "base_uri": "https://localhost:8080/",
          "height": 333
        },
        "outputId": "5d58cc22-a8f5-46b8-83ae-300e188259c8"
      },
      "source": [
        "SVG(data = displacy.render(nlp(\"How to go to main stack\")))"
      ],
      "execution_count": 67,
      "outputs": [
        {
          "output_type": "execute_result",
          "data": {
            "text/plain": [
              "<IPython.core.display.SVG object>"
            ],
            "image/svg+xml": "<svg class=\"displacy\" direction=\"ltr\" height=\"312.0\" id=\"c0d88c1d05d24ef9b1cb1ed8f9406b07-0\" style=\"max-width: none; height: 312.0px; color: #000000; background: #ffffff; font-family: Arial; direction: ltr\" width=\"1100\" xml:lang=\"en\" xmlns=\"http://www.w3.org/2000/svg\" xmlns:xlink=\"http://www.w3.org/1999/xlink\">\n<text class=\"displacy-token\" fill=\"currentColor\" text-anchor=\"middle\" y=\"222.0\">\n    <tspan class=\"displacy-word\" fill=\"currentColor\" x=\"50\">How</tspan>\n    <tspan class=\"displacy-tag\" dy=\"2em\" fill=\"currentColor\" x=\"50\">ADV</tspan>\n</text>\n\n<text class=\"displacy-token\" fill=\"currentColor\" text-anchor=\"middle\" y=\"222.0\">\n    <tspan class=\"displacy-word\" fill=\"currentColor\" x=\"225\">to</tspan>\n    <tspan class=\"displacy-tag\" dy=\"2em\" fill=\"currentColor\" x=\"225\">PART</tspan>\n</text>\n\n<text class=\"displacy-token\" fill=\"currentColor\" text-anchor=\"middle\" y=\"222.0\">\n    <tspan class=\"displacy-word\" fill=\"currentColor\" x=\"400\">go</tspan>\n    <tspan class=\"displacy-tag\" dy=\"2em\" fill=\"currentColor\" x=\"400\">VERB</tspan>\n</text>\n\n<text class=\"displacy-token\" fill=\"currentColor\" text-anchor=\"middle\" y=\"222.0\">\n    <tspan class=\"displacy-word\" fill=\"currentColor\" x=\"575\">to</tspan>\n    <tspan class=\"displacy-tag\" dy=\"2em\" fill=\"currentColor\" x=\"575\">ADP</tspan>\n</text>\n\n<text class=\"displacy-token\" fill=\"currentColor\" text-anchor=\"middle\" y=\"222.0\">\n    <tspan class=\"displacy-word\" fill=\"currentColor\" x=\"750\">main</tspan>\n    <tspan class=\"displacy-tag\" dy=\"2em\" fill=\"currentColor\" x=\"750\">ADJ</tspan>\n</text>\n\n<text class=\"displacy-token\" fill=\"currentColor\" text-anchor=\"middle\" y=\"222.0\">\n    <tspan class=\"displacy-word\" fill=\"currentColor\" x=\"925\">stack</tspan>\n    <tspan class=\"displacy-tag\" dy=\"2em\" fill=\"currentColor\" x=\"925\">NOUN</tspan>\n</text>\n\n<g class=\"displacy-arrow\">\n    <path class=\"displacy-arc\" d=\"M70,177.0 C70,2.0 400.0,2.0 400.0,177.0\" fill=\"none\" id=\"arrow-c0d88c1d05d24ef9b1cb1ed8f9406b07-0-0\" stroke=\"currentColor\" stroke-width=\"2px\"/>\n    <text dy=\"1.25em\" style=\"font-size: 0.8em; letter-spacing: 1px\">\n        <textPath class=\"displacy-label\" fill=\"currentColor\" side=\"left\" startOffset=\"50%\" text-anchor=\"middle\" xlink:href=\"#arrow-c0d88c1d05d24ef9b1cb1ed8f9406b07-0-0\">advmod</textPath>\n    </text>\n    <path class=\"displacy-arrowhead\" d=\"M70,179.0 L62,167.0 78,167.0\" fill=\"currentColor\"/>\n</g>\n\n<g class=\"displacy-arrow\">\n    <path class=\"displacy-arc\" d=\"M245,177.0 C245,89.5 395.0,89.5 395.0,177.0\" fill=\"none\" id=\"arrow-c0d88c1d05d24ef9b1cb1ed8f9406b07-0-1\" stroke=\"currentColor\" stroke-width=\"2px\"/>\n    <text dy=\"1.25em\" style=\"font-size: 0.8em; letter-spacing: 1px\">\n        <textPath class=\"displacy-label\" fill=\"currentColor\" side=\"left\" startOffset=\"50%\" text-anchor=\"middle\" xlink:href=\"#arrow-c0d88c1d05d24ef9b1cb1ed8f9406b07-0-1\">aux</textPath>\n    </text>\n    <path class=\"displacy-arrowhead\" d=\"M245,179.0 L237,167.0 253,167.0\" fill=\"currentColor\"/>\n</g>\n\n<g class=\"displacy-arrow\">\n    <path class=\"displacy-arc\" d=\"M420,177.0 C420,89.5 570.0,89.5 570.0,177.0\" fill=\"none\" id=\"arrow-c0d88c1d05d24ef9b1cb1ed8f9406b07-0-2\" stroke=\"currentColor\" stroke-width=\"2px\"/>\n    <text dy=\"1.25em\" style=\"font-size: 0.8em; letter-spacing: 1px\">\n        <textPath class=\"displacy-label\" fill=\"currentColor\" side=\"left\" startOffset=\"50%\" text-anchor=\"middle\" xlink:href=\"#arrow-c0d88c1d05d24ef9b1cb1ed8f9406b07-0-2\">prep</textPath>\n    </text>\n    <path class=\"displacy-arrowhead\" d=\"M570.0,179.0 L578.0,167.0 562.0,167.0\" fill=\"currentColor\"/>\n</g>\n\n<g class=\"displacy-arrow\">\n    <path class=\"displacy-arc\" d=\"M770,177.0 C770,89.5 920.0,89.5 920.0,177.0\" fill=\"none\" id=\"arrow-c0d88c1d05d24ef9b1cb1ed8f9406b07-0-3\" stroke=\"currentColor\" stroke-width=\"2px\"/>\n    <text dy=\"1.25em\" style=\"font-size: 0.8em; letter-spacing: 1px\">\n        <textPath class=\"displacy-label\" fill=\"currentColor\" side=\"left\" startOffset=\"50%\" text-anchor=\"middle\" xlink:href=\"#arrow-c0d88c1d05d24ef9b1cb1ed8f9406b07-0-3\">amod</textPath>\n    </text>\n    <path class=\"displacy-arrowhead\" d=\"M770,179.0 L762,167.0 778,167.0\" fill=\"currentColor\"/>\n</g>\n\n<g class=\"displacy-arrow\">\n    <path class=\"displacy-arc\" d=\"M595,177.0 C595,2.0 925.0,2.0 925.0,177.0\" fill=\"none\" id=\"arrow-c0d88c1d05d24ef9b1cb1ed8f9406b07-0-4\" stroke=\"currentColor\" stroke-width=\"2px\"/>\n    <text dy=\"1.25em\" style=\"font-size: 0.8em; letter-spacing: 1px\">\n        <textPath class=\"displacy-label\" fill=\"currentColor\" side=\"left\" startOffset=\"50%\" text-anchor=\"middle\" xlink:href=\"#arrow-c0d88c1d05d24ef9b1cb1ed8f9406b07-0-4\">pobj</textPath>\n    </text>\n    <path class=\"displacy-arrowhead\" d=\"M925.0,179.0 L933.0,167.0 917.0,167.0\" fill=\"currentColor\"/>\n</g>\n</svg>"
          },
          "metadata": {
            "tags": []
          },
          "execution_count": 67
        }
      ]
    },
    {
      "cell_type": "code",
      "metadata": {
        "id": "SEw-9CYNL-2g",
        "colab_type": "code",
        "colab": {
          "base_uri": "https://localhost:8080/",
          "height": 85
        },
        "outputId": "e489f412-a3bf-4c6b-c1f2-4055ae8be574"
      },
      "source": [
        "titles_with_go_string = [_ for _ in df.loc[lambda d: d['Title'].str.lower().str.contains(\"go\")]['Title']]\n",
        "titles_with_go_string[1:5]"
      ],
      "execution_count": 71,
      "outputs": [
        {
          "output_type": "execute_result",
          "data": {
            "text/plain": [
              "['Good STL-like library for C',\n",
              " 'My website got hacked... What should I do?',\n",
              " \"DVCS Choices - What's good for Windows?\",\n",
              " 'Is a \"Confirm Email\" input good practice when user changes email address?']"
            ]
          },
          "metadata": {
            "tags": []
          },
          "execution_count": 71
        }
      ]
    },
    {
      "cell_type": "code",
      "metadata": {
        "id": "_Z14QRJbMUvn",
        "colab_type": "code",
        "colab": {}
      },
      "source": [
        "def has_golang(doc):\n",
        "    for t in doc:\n",
        "        if t.lower_ in [\"go\",\"golang\"]:\n",
        "            if t.pos_ == \"NOUN\":\n",
        "                return True \n",
        "    return False"
      ],
      "execution_count": 80,
      "outputs": []
    },
    {
      "cell_type": "code",
      "metadata": {
        "id": "D5poYe2QMaz_",
        "colab_type": "code",
        "colab": {}
      },
      "source": [
        "# Puede ser mejorado con https://spacy.io/usage/processing-pipelines/\n",
        "g = (title for title in nlp.pipe(titles_with_go_string) if has_golang(title))\n",
        "[next(g) for i in range(10)]"
      ],
      "execution_count": null,
      "outputs": []
    },
    {
      "cell_type": "code",
      "metadata": {
        "id": "Y4rPqh6NNV5s",
        "colab_type": "code",
        "colab": {
          "base_uri": "https://localhost:8080/",
          "height": 34
        },
        "outputId": "afb7c52e-13e3-4593-b6ec-414d7f42a74f"
      },
      "source": [
        "df_tags = pd.read_csv(tags_path)\n",
        "go_ids = df_tags.loc[lambda d: d['Tag'] == 'go']['Id']\n",
        "\n",
        "def has_go_token(doc):\n",
        "    for t in doc:\n",
        "        if t.lower_ in ['go', 'golang']:\n",
        "            if t.pos_ != 'VERB':\n",
        "                return True\n",
        "    return False\n",
        "\n",
        "all_go_sentences = df.loc[lambda d: d['Id'].isin(go_ids)]['Title'].tolist()\n",
        "detectable = [d.text for d in nlp.pipe(all_go_sentences) if has_go_token(d)]\n",
        "\n",
        "non_detectable = (df\n",
        "                  .loc[lambda d: ~d['Id'].isin(go_ids)]\n",
        "                  .loc[lambda d: d['Title'].str.lower().str.contains(\"go\")]\n",
        "                  ['Title']\n",
        "                  .tolist())\n",
        "\n",
        "non_detectable = [d.text for d in nlp.pipe(non_detectable) if has_go_token(d)]\n",
        "\n",
        "len(all_go_sentences), len(detectable), len(non_detectable)"
      ],
      "execution_count": 81,
      "outputs": [
        {
          "output_type": "execute_result",
          "data": {
            "text/plain": [
              "(1167, 589, 81)"
            ]
          },
          "metadata": {
            "tags": []
          },
          "execution_count": 81
        }
      ]
    },
    {
      "cell_type": "code",
      "metadata": {
        "id": "4nRByWMKOCTM",
        "colab_type": "code",
        "colab": {
          "base_uri": "https://localhost:8080/",
          "height": 35
        },
        "outputId": "8ada4a87-3a98-4202-aa5d-3eb502755181"
      },
      "source": [
        "model_name = \"en_core_web_sm\"\n",
        "model = spacy.load(model_name, disable=[\"ner\"])\n",
        "\n",
        "def has_go_token(doc):\n",
        "    for t in doc:\n",
        "        if t.lower_ in [\"go\", \"golang\"]:\n",
        "            if t.pos_ != \"VERB\":\n",
        "                return True\n",
        "    return False\n",
        "\n",
        "method = \"not-verb-but-pobj\"\n",
        "\n",
        "correct = sum(has_go_token(doc) for doc in model.pipe(detectable))\n",
        "wrong = sum(has_go_token(doc) for doc in model.pipe(non_detectable))\n",
        "precision = correct/(correct + wrong)\n",
        "recall = correct/len(detectable)\n",
        "accuracy = (correct + len(non_detectable) - wrong)/(len(detectable) + len(non_detectable))\n",
        "\n",
        "f\"{precision},{recall},{accuracy},{model_name},{method}\" # this is logged"
      ],
      "execution_count": 84,
      "outputs": [
        {
          "output_type": "execute_result",
          "data": {
            "application/vnd.google.colaboratory.intrinsic": {
              "type": "string"
            },
            "text/plain": [
              "'0.8791044776119403,1.0,0.8791044776119403,en_core_web_sm,not-verb-but-pobj'"
            ]
          },
          "metadata": {
            "tags": []
          },
          "execution_count": 84
        }
      ]
    },
    {
      "cell_type": "markdown",
      "metadata": {
        "id": "kyQgcTfz3ep0",
        "colab_type": "text"
      },
      "source": [
        "## Lectura adicional :\n",
        "\n",
        "Spacy ofrece alrededor de 55 clases digitales de manipulacion de texto.\n",
        "\n",
        "[Advanced NLP with spacy](https://course.spacy.io/en/)\n",
        "\n",
        "[Diferencia entre NLP y TextMining](https://discuss.analyticsvidhya.com/t/difference-between-nlp-and-text-mining/2977)\n",
        "\n",
        "[Tecnicas y metodos de TextMining Gaikwad et al](https://pdfs.semanticscholar.org/9fde/fcb2bd8f4781afcf8ceac02864d6bb76f357.pdf)"
      ]
    }
  ]
}