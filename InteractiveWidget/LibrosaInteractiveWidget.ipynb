{
 "cells": [
  {
   "cell_type": "code",
   "execution_count": 3,
   "metadata": {},
   "outputs": [
    {
     "name": "stdout",
     "output_type": "stream",
     "text": [
      "Collecting package metadata (current_repodata.json): done\n",
      "Solving environment: done\n",
      "\n",
      "\n",
      "==> WARNING: A newer version of conda exists. <==\n",
      "  current version: 4.8.3\n",
      "  latest version: 4.8.4\n",
      "\n",
      "Please update conda by running\n",
      "\n",
      "    $ conda update -n base conda\n",
      "\n",
      "\n",
      "\n",
      "## Package Plan ##\n",
      "\n",
      "  environment location: /opt/conda\n",
      "\n",
      "  added / updated specs:\n",
      "    - librosa\n",
      "\n",
      "\n",
      "The following packages will be downloaded:\n",
      "\n",
      "    package                    |            build\n",
      "    ---------------------------|-----------------\n",
      "    appdirs-1.4.3              |             py_1          11 KB  conda-forge\n",
      "    audioread-2.1.8            |   py38h32f6830_2          32 KB  conda-forge\n",
      "    ffmpeg-4.3.1               |       h167e202_0        83.3 MB  conda-forge\n",
      "    gettext-0.19.8.1           |    hc5be6a0_1002         3.6 MB  conda-forge\n",
      "    gnutls-3.6.13              |       h79a8f9a_0         2.1 MB  conda-forge\n",
      "    lame-3.100                 |    h14c3975_1001         498 KB  conda-forge\n",
      "    libflac-1.3.3              |       he1b5a44_0         517 KB  conda-forge\n",
      "    libiconv-1.15              |    h516909a_1006         2.0 MB  conda-forge\n",
      "    libogg-1.3.2               |    h516909a_1002         206 KB  conda-forge\n",
      "    librosa-0.8.0              |     pyh9f0ad1d_0         145 KB  conda-forge\n",
      "    libsndfile-1.0.28          |    he1b5a44_1000         529 KB  conda-forge\n",
      "    libvorbis-1.3.7            |       he1b5a44_0         287 KB  conda-forge\n",
      "    nettle-3.4.1               |    h1bed415_1002         5.7 MB  conda-forge\n",
      "    openh264-2.1.1             |       h8b12597_0         1.5 MB  conda-forge\n",
      "    pooch-1.1.1                |             py_0          36 KB  conda-forge\n",
      "    pysoundfile-0.10.2         |          py_1001          21 KB  conda-forge\n",
      "    resampy-0.2.2              |             py_0         332 KB  conda-forge\n",
      "    x264-1!152.20180806        |       h14c3975_0         1.4 MB  conda-forge\n",
      "    ------------------------------------------------------------\n",
      "                                           Total:       102.2 MB\n",
      "\n",
      "The following NEW packages will be INSTALLED:\n",
      "\n",
      "  appdirs            conda-forge/noarch::appdirs-1.4.3-py_1\n",
      "  audioread          conda-forge/linux-64::audioread-2.1.8-py38h32f6830_2\n",
      "  ffmpeg             conda-forge/linux-64::ffmpeg-4.3.1-h167e202_0\n",
      "  gettext            conda-forge/linux-64::gettext-0.19.8.1-hc5be6a0_1002\n",
      "  gnutls             conda-forge/linux-64::gnutls-3.6.13-h79a8f9a_0\n",
      "  lame               conda-forge/linux-64::lame-3.100-h14c3975_1001\n",
      "  libflac            conda-forge/linux-64::libflac-1.3.3-he1b5a44_0\n",
      "  libiconv           conda-forge/linux-64::libiconv-1.15-h516909a_1006\n",
      "  libogg             conda-forge/linux-64::libogg-1.3.2-h516909a_1002\n",
      "  librosa            conda-forge/noarch::librosa-0.8.0-pyh9f0ad1d_0\n",
      "  libsndfile         conda-forge/linux-64::libsndfile-1.0.28-he1b5a44_1000\n",
      "  libvorbis          conda-forge/linux-64::libvorbis-1.3.7-he1b5a44_0\n",
      "  nettle             conda-forge/linux-64::nettle-3.4.1-h1bed415_1002\n",
      "  openh264           conda-forge/linux-64::openh264-2.1.1-h8b12597_0\n",
      "  pooch              conda-forge/noarch::pooch-1.1.1-py_0\n",
      "  pysoundfile        conda-forge/noarch::pysoundfile-0.10.2-py_1001\n",
      "  resampy            conda-forge/noarch::resampy-0.2.2-py_0\n",
      "  x264               conda-forge/linux-64::x264-1!152.20180806-h14c3975_0\n",
      "\n",
      "\n",
      "\n",
      "Downloading and Extracting Packages\n",
      "pysoundfile-0.10.2   | 21 KB     | ##################################### | 100% \n",
      "resampy-0.2.2        | 332 KB    | ##################################### | 100% \n",
      "openh264-2.1.1       | 1.5 MB    | ##################################### | 100% \n",
      "lame-3.100           | 498 KB    | ##################################### | 100% \n",
      "librosa-0.8.0        | 145 KB    | ##################################### | 100% \n",
      "libsndfile-1.0.28    | 529 KB    | ##################################### | 100% \n",
      "libiconv-1.15        | 2.0 MB    | ##################################### | 100% \n",
      "x264-1!152.20180806  | 1.4 MB    | ##################################### | 100% \n",
      "libflac-1.3.3        | 517 KB    | ##################################### | 100% \n",
      "ffmpeg-4.3.1         | 83.3 MB   | ##################################### | 100% \n",
      "libogg-1.3.2         | 206 KB    | ##################################### | 100% \n",
      "pooch-1.1.1          | 36 KB     | ##################################### | 100% \n",
      "gnutls-3.6.13        | 2.1 MB    | ##################################### | 100% \n",
      "audioread-2.1.8      | 32 KB     | ##################################### | 100% \n",
      "nettle-3.4.1         | 5.7 MB    | ##################################### | 100% \n",
      "libvorbis-1.3.7      | 287 KB    | ##################################### | 100% \n",
      "appdirs-1.4.3        | 11 KB     | ##################################### | 100% \n",
      "gettext-0.19.8.1     | 3.6 MB    | ##################################### | 100% \n",
      "Preparing transaction: done\n",
      "Verifying transaction: done\n",
      "Executing transaction: done\n"
     ]
    }
   ],
   "source": [
    "!conda install -c conda-forge librosa -y"
   ]
  },
  {
   "cell_type": "code",
   "execution_count": 1,
   "metadata": {},
   "outputs": [],
   "source": [
    "%matplotlib widget\n",
    "import librosa\n",
    "import librosa.display\n",
    "import numpy as np\n",
    "import matplotlib.pyplot as plt\n",
    "import ipywidgets as widgets"
   ]
  },
  {
   "cell_type": "code",
   "execution_count": 2,
   "metadata": {},
   "outputs": [],
   "source": [
    "import asyncio\n",
    "\n",
    "class Timer:\n",
    "    def __init__(self, timeout, callback):\n",
    "        self._timeout = timeout\n",
    "        self._callback = callback\n",
    "        self._task = asyncio.ensure_future(self._job())\n",
    "\n",
    "    async def _job(self):\n",
    "        await asyncio.sleep(self._timeout)\n",
    "        self._callback()\n",
    "\n",
    "    def cancel(self):\n",
    "        self._task.cancel()\n",
    "        \n",
    "def debounce(wait):\n",
    "    def decorator(fn):\n",
    "        timer = None\n",
    "        def debounced(*args, **kwargs):\n",
    "            nonlocal timer\n",
    "            def call_it():\n",
    "                fn(*args, **kwargs)\n",
    "            if timer is not None:\n",
    "                timer.cancel()\n",
    "            timer = Timer(wait, call_it)\n",
    "        return debounced\n",
    "    return decorator\n"
   ]
  },
  {
   "cell_type": "code",
   "execution_count": 7,
   "metadata": {},
   "outputs": [
    {
     "data": {
      "application/vnd.jupyter.widget-view+json": {
       "model_id": "679bf92f1486493695077aad84bcc8f2",
       "version_major": 2,
       "version_minor": 0
      },
      "text/plain": [
       "Label(value='Spectrogram duration: 5 secs.')"
      ]
     },
     "metadata": {},
     "output_type": "display_data"
    },
    {
     "data": {
      "application/vnd.jupyter.widget-view+json": {
       "model_id": "0e2307745127482cabb37a6a5c0255fc",
       "version_major": 2,
       "version_minor": 0
      },
      "text/plain": [
       "IntSlider(value=5, min=5, step=5)"
      ]
     },
     "metadata": {},
     "output_type": "display_data"
    },
    {
     "data": {
      "application/vnd.jupyter.widget-view+json": {
       "model_id": "9845745419b94165bc36ff79a693742f",
       "version_major": 2,
       "version_minor": 0
      },
      "text/plain": [
       "Canvas(toolbar=Toolbar(toolitems=[('Home', 'Reset original view', 'home', 'home'), ('Back', 'Back to previous …"
      ]
     },
     "metadata": {},
     "output_type": "display_data"
    }
   ],
   "source": [
    "def update_plot(duration):\n",
    "    ax[0].cla()\n",
    "    ax[1].cla()\n",
    "    y, sr = librosa.load(librosa.ex('choice'), duration = duration)\n",
    "    D = librosa.amplitude_to_db(np.abs(librosa.stft(y)), ref=np.max)\n",
    "    librosa.display.specshow(D, y_axis='linear', x_axis='time', sr=sr, ax=ax[0])\n",
    "    return librosa.display.specshow(D, y_axis='log', x_axis='time', sr=sr, ax=ax[1])    \n",
    "\n",
    "@debounce(1.0)\n",
    "def handle_slider_change(change):\n",
    "    duration = change.new\n",
    "    caption.value = 'Spectrogram duration: {} secs.'.format(duration)\n",
    "    update_plot(duration)\n",
    "\n",
    "caption = widgets.Label(value=\"Spectrogram duration: 5 secs.\")\n",
    "slider = widgets.IntSlider(min = 5, max = 100, step = 5)\n",
    "slider.observe(handle_slider_change, names='value')\n",
    "\n",
    "display(caption, slider)\n",
    "\n",
    "fig, ax = plt.subplots(nrows=2, ncols = 1, sharex = True, figsize=(14,8))\n",
    "ax[0].set(title=\"Linear Frequency spectrogram\")\n",
    "ax[1].set(title=\"Log Frequency spectrogram\")\n",
    "ax[1].label_outer()\n",
    "fig.colorbar(update_plot(5), ax=ax, format=\"%+2.f dB\");\n",
    "plt.clf()\n"
   ]
  },
  {
   "cell_type": "code",
   "execution_count": 24,
   "metadata": {},
   "outputs": [
    {
     "data": {
      "application/vnd.jupyter.widget-view+json": {
       "model_id": "dfd6f6269c8646e391246139cc1bfcf9",
       "version_major": 2,
       "version_minor": 0
      },
      "text/plain": [
       "Label(value='Song duration: 5 secs')"
      ]
     },
     "metadata": {},
     "output_type": "display_data"
    },
    {
     "data": {
      "application/vnd.jupyter.widget-view+json": {
       "model_id": "6b8e8ae4de2d4d4087c77f6d374d11c8",
       "version_major": 2,
       "version_minor": 0
      },
      "text/plain": [
       "IntSlider(value=5, max=50, min=1)"
      ]
     },
     "metadata": {},
     "output_type": "display_data"
    },
    {
     "data": {
      "application/vnd.jupyter.widget-view+json": {
       "model_id": "701c382e29bb4ee1bffeb8367f218347",
       "version_major": 2,
       "version_minor": 0
      },
      "text/plain": [
       "Canvas(toolbar=Toolbar(toolitems=[('Home', 'Reset original view', 'home', 'home'), ('Back', 'Back to previous …"
      ]
     },
     "metadata": {},
     "output_type": "display_data"
    }
   ],
   "source": [
    "def update_plot(duration):\n",
    "    y, sr = librosa.load(librosa.ex('choice'), duration = duration)\n",
    "    y_harm, y_perc = librosa.effects.hpss(y)\n",
    "    titles = [\"Sound wave plot\", \"Harmonic And Percursive plot\"]\n",
    "    alphas = [1.0, 0.5]\n",
    "    ys = [y, y_harm]\n",
    "    for i in range(len(titles)):\n",
    "        axs[i].cla()\n",
    "        axs[i].set(title=titles[i])\n",
    "        axs[i].label_outer()\n",
    "        librosa.display.waveplot(ys[i], sr=sr, ax=axs[i], alpha = alphas[i])\n",
    "    librosa.display.waveplot(y_perc, sr=sr, color='r', alpha=0.5, ax=axs[1])\n",
    "\n",
    "@debounce(1.0)\n",
    "def handler_duration_slider(change):\n",
    "    duration = change.new\n",
    "    caption.value = \"Song duration: {} secs\".format(duration)\n",
    "    update_plot(duration)    \n",
    "    \n",
    "caption = widgets.Label(value=\"Song duration: 5 secs\")\n",
    "slider = widgets.IntSlider(value = 5, min = 1, max = 50, step = 1)\n",
    "slider.observe(handler_duration_slider, names='value')\n",
    "\n",
    "display(caption, slider)\n",
    "\n",
    "fig, axs = plt.subplots(nrows=2, sharex=True, sharey=True);\n",
    "update_plot(5)"
   ]
  }
 ],
 "metadata": {
  "kernelspec": {
   "display_name": "Python 3",
   "language": "python",
   "name": "python3"
  },
  "language_info": {
   "codemirror_mode": {
    "name": "ipython",
    "version": 3
   },
   "file_extension": ".py",
   "mimetype": "text/x-python",
   "name": "python",
   "nbconvert_exporter": "python",
   "pygments_lexer": "ipython3",
   "version": "3.8.5"
  }
 },
 "nbformat": 4,
 "nbformat_minor": 4
}
